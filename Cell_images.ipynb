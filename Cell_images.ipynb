{
  "nbformat": 4,
  "nbformat_minor": 0,
  "metadata": {
    "colab": {
      "name": "Cell images.ipynb",
      "provenance": [],
      "authorship_tag": "ABX9TyPGa85+qvBib5gjVDq7vrfN",
      "include_colab_link": true
    },
    "kernelspec": {
      "name": "python3",
      "display_name": "Python 3"
    },
    "accelerator": "GPU"
  },
  "cells": [
    {
      "cell_type": "markdown",
      "metadata": {
        "id": "view-in-github",
        "colab_type": "text"
      },
      "source": [
        "<a href=\"https://colab.research.google.com/github/ScMofeoluwa/Cell-images/blob/main/Cell_images.ipynb\" target=\"_parent\"><img src=\"https://colab.research.google.com/assets/colab-badge.svg\" alt=\"Open In Colab\"/></a>"
      ]
    },
    {
      "cell_type": "code",
      "metadata": {
        "colab": {
          "base_uri": "https://localhost:8080/"
        },
        "id": "8XXyKzynQssK",
        "outputId": "26e6a794-7bbc-47af-8b41-5fe323dc1f01"
      },
      "source": [
        "!curl 'https://doc-0k-bg-docs.googleusercontent.com/docs/securesc/fvclg2hk1r2vm9ind0aq7vjt6ivsjv9k/358hl0ob3fji7g0a371jom06k0tf83sv/1607716275000/09830891788622587857/09830891788622587857/1vQrN0xm4a2WtZoq19nPNzoiEjw4a-l-I?e=download&authuser=0&nonce=3dd9nlj972o7o&user=09830891788622587857&hash=b79u3c9qme4r5spb5o39hj1a948rrdnt' -H 'User-Agent: Mozilla/5.0 (X11; Ubuntu; Linux x86_64; rv:83.0) Gecko/20100101 Firefox/83.0' -H 'Accept: text/html,application/xhtml+xml,application/xml;q=0.9,image/webp,*/*;q=0.8' -H 'Accept-Language: en-US,en;q=0.5' --compressed -H 'Connection: keep-alive' -H 'Cookie: AUTH_7oou9snqpr91nk45nrq72fi80msjq315_nonce=3dd9nlj972o7o' -H 'Upgrade-Insecure-Requests: 1' -H 'TE: Trailers' -o cell_images.zip"
      ],
      "execution_count": null,
      "outputs": [
        {
          "output_type": "stream",
          "text": [
            "  % Total    % Received % Xferd  Average Speed   Time    Time     Time  Current\n",
            "                                 Dload  Upload   Total   Spent    Left  Speed\n",
            "100  337M    0  337M    0     0  88.9M      0 --:--:--  0:00:03 --:--:-- 88.8M\n"
          ],
          "name": "stdout"
        }
      ]
    },
    {
      "cell_type": "code",
      "metadata": {
        "id": "woIRei93UPrC"
      },
      "source": [
        "from zipfile import ZipFile\n",
        "file_name = r'cell_images.zip'"
      ],
      "execution_count": null,
      "outputs": []
    },
    {
      "cell_type": "code",
      "metadata": {
        "colab": {
          "base_uri": "https://localhost:8080/"
        },
        "id": "Uk7KvxO_U82c",
        "outputId": "875cc4eb-fd6d-4dff-82d5-1649dcf1a65e"
      },
      "source": [
        "with ZipFile(file_name,'r') as zip:\n",
        "  zip.extractall()\n",
        "  print('Done')"
      ],
      "execution_count": null,
      "outputs": [
        {
          "output_type": "stream",
          "text": [
            "Done\n"
          ],
          "name": "stdout"
        }
      ]
    },
    {
      "cell_type": "code",
      "metadata": {
        "colab": {
          "base_uri": "https://localhost:8080/"
        },
        "id": "T14vvC8pVw8-",
        "outputId": "957ec3eb-e6ee-4171-d3be-a00c1ea18266"
      },
      "source": [
        "cd cell_images/"
      ],
      "execution_count": null,
      "outputs": [
        {
          "output_type": "stream",
          "text": [
            "/content/cell_images\n"
          ],
          "name": "stdout"
        }
      ]
    },
    {
      "cell_type": "code",
      "metadata": {
        "id": "LOP--ZC7U9tB"
      },
      "source": [
        "import random,glob,shutil, os"
      ],
      "execution_count": null,
      "outputs": []
    },
    {
      "cell_type": "code",
      "metadata": {
        "id": "OGBFR4lhV7Q4"
      },
      "source": [
        "from tqdm import tqdm"
      ],
      "execution_count": null,
      "outputs": []
    },
    {
      "cell_type": "code",
      "metadata": {
        "id": "wTtUOul8VzI1"
      },
      "source": [
        "import pandas as pd\n",
        "import numpy as np\n",
        "import seaborn as sns\n",
        "import matplotlib.pyplot as plt\n",
        "import os\n",
        "import warnings\n",
        "warnings.filterwarnings('ignore')\n",
        "from tensorflow.keras.models import Sequential\n",
        "from tensorflow.keras.layers import Dense,Flatten,MaxPool2D,Conv2D,Activation\n",
        "from tensorflow.keras.callbacks import EarlyStopping, ModelCheckpoint\n",
        "from tensorflow.keras import datasets\n",
        "from tensorflow.keras.preprocessing.image import img_to_array, load_img, array_to_img\n",
        "from matplotlib.image import imread"
      ],
      "execution_count": null,
      "outputs": []
    },
    {
      "cell_type": "code",
      "metadata": {
        "id": "cgEMtNYaWJO5"
      },
      "source": [
        "train_path = r'/content/cell_images/train'\n",
        "test_path = r'/content/cell_images/test'"
      ],
      "execution_count": null,
      "outputs": []
    },
    {
      "cell_type": "code",
      "metadata": {
        "colab": {
          "base_uri": "https://localhost:8080/"
        },
        "id": "DcosQ-Y1XvyR",
        "outputId": "d00a9074-56d1-47f7-bb55-64c1cb1d8fb6"
      },
      "source": [
        "print(os.listdir(train_path))\n",
        "print(os.listdir(test_path))"
      ],
      "execution_count": null,
      "outputs": [
        {
          "output_type": "stream",
          "text": [
            "['parasitized', 'uninfected']\n",
            "['parasitized', 'uninfected']\n"
          ],
          "name": "stdout"
        }
      ]
    },
    {
      "cell_type": "code",
      "metadata": {
        "id": "5RIVntUYXyiB"
      },
      "source": [
        "categories = ['uninfected', 'parasitized']"
      ],
      "execution_count": null,
      "outputs": []
    },
    {
      "cell_type": "code",
      "metadata": {
        "colab": {
          "base_uri": "https://localhost:8080/",
          "height": 268
        },
        "id": "gaUPjwxxX1xN",
        "outputId": "2afac162-f624-4ce3-ae1c-7aa1fe0572ed"
      },
      "source": [
        "for category in categories:\n",
        "  path = os.path.join(train_path,category)\n",
        "  class_num = categories.index(category)\n",
        " \n",
        "  for img in os.listdir(path):\n",
        "    img_array = load_img(os.path.join(path,img), target_size=(100,100))\n",
        "    new_array = img_to_array(img_array)\n",
        "    plt.imshow(array_to_img(new_array))\n",
        "    #plt.imshow(array_to_img(new_array),annot =True)\n",
        "    plt.show()\n",
        "    break\n",
        "  break"
      ],
      "execution_count": null,
      "outputs": [
        {
          "output_type": "display_data",
          "data": {
            "image/png": "[encoded data removed]",
            "text/plain": [
              "<Figure size 432x288 with 1 Axes>"
            ]
          },
          "metadata": {
            "tags": [],
            "needs_background": "light"
          }
        }
      ]
    },
    {
      "cell_type": "code",
      "metadata": {
        "id": "3K5W6xG2X5Gq"
      },
      "source": [
        "training_data = []\n",
        "test_data = []\n",
        " \n",
        "def create_training_data(directory,categories, data):\n",
        "  for category in categories:\n",
        "    path = os.path.join(directory,category)\n",
        "    class_num = categories.index(category)\n",
        " \n",
        "    for img in tqdm(os.listdir(path)):\n",
        "      try:\n",
        "        img_array = load_img(os.path.join(path,img), target_size=(100,100))\n",
        "        new_array = img_to_array(img_array)\n",
        "        data.append([new_array,class_num])\n",
        "      except Exception as e:\n",
        "        pass"
      ],
      "execution_count": null,
      "outputs": []
    },
    {
      "cell_type": "code",
      "metadata": {
        "colab": {
          "base_uri": "https://localhost:8080/"
        },
        "id": "wVHaOhzqYCB2",
        "outputId": "88182e9f-d686-4b69-86c8-8e13f8fab03a"
      },
      "source": [
        "create_training_data(directory=train_path,\n",
        "                     categories=categories,data = training_data)\n",
        "create_training_data(directory=test_path,\n",
        "                     categories=categories,data = test_data)"
      ],
      "execution_count": null,
      "outputs": [
        {
          "output_type": "stream",
          "text": [
            "100%|██████████| 12480/12480 [00:10<00:00, 1198.34it/s]\n",
            "100%|██████████| 12480/12480 [00:11<00:00, 1109.63it/s]\n",
            "100%|██████████| 1300/1300 [00:01<00:00, 1215.00it/s]\n",
            "100%|██████████| 1300/1300 [00:01<00:00, 1108.90it/s]\n"
          ],
          "name": "stderr"
        }
      ]
    },
    {
      "cell_type": "code",
      "metadata": {
        "colab": {
          "base_uri": "https://localhost:8080/"
        },
        "id": "4f5G1fXUYFVT",
        "outputId": "0fb34a0f-ab65-486d-990f-03ead3949e1e"
      },
      "source": [
        "print(len(training_data))\n",
        "print(len(test_data))"
      ],
      "execution_count": null,
      "outputs": [
        {
          "output_type": "stream",
          "text": [
            "24958\n",
            "2600\n"
          ],
          "name": "stdout"
        }
      ]
    },
    {
      "cell_type": "code",
      "metadata": {
        "id": "NjRoHn_fYNot"
      },
      "source": [
        "import random\n",
        " \n",
        "random.shuffle([training_data,test_data])"
      ],
      "execution_count": null,
      "outputs": []
    },
    {
      "cell_type": "code",
      "metadata": {
        "id": "fYYN_1FgYQvH"
      },
      "source": [
        "X_train = []\n",
        "y_train = []\n",
        "X_test = []\n",
        "y_test = []"
      ],
      "execution_count": null,
      "outputs": []
    },
    {
      "cell_type": "code",
      "metadata": {
        "id": "SIH8yEDiYS5C"
      },
      "source": [
        "def get_features_and_labels(data, features, labels):\n",
        "  for feature, label in tqdm(data):\n",
        "    features.append(feature)\n",
        "    labels.append(label)\n",
        "  return features, labels"
      ],
      "execution_count": null,
      "outputs": []
    },
    {
      "cell_type": "code",
      "metadata": {
        "colab": {
          "base_uri": "https://localhost:8080/"
        },
        "id": "0dUJnqwrYVbb",
        "outputId": "5b26851a-cd87-4a3b-b8f4-b534dbfc4187"
      },
      "source": [
        "X_train,y_train = get_features_and_labels(training_data, X_train,y_train)\n",
        "X_test,y_test = get_features_and_labels(test_data,X_test,y_test)"
      ],
      "execution_count": null,
      "outputs": [
        {
          "output_type": "stream",
          "text": [
            "100%|██████████| 24958/24958 [00:00<00:00, 1714655.60it/s]\n",
            "100%|██████████| 2600/2600 [00:00<00:00, 819507.81it/s]\n"
          ],
          "name": "stderr"
        }
      ]
    },
    {
      "cell_type": "code",
      "metadata": {
        "colab": {
          "base_uri": "https://localhost:8080/"
        },
        "id": "2I09mDzLYcfR",
        "outputId": "682d2bf0-647a-401f-d842-6d7591686fe6"
      },
      "source": [
        "print(len(X_train), len(X_test),\n",
        "      len(y_test), len(y_test))"
      ],
      "execution_count": null,
      "outputs": [
        {
          "output_type": "stream",
          "text": [
            "24958 2600 2600 2600\n"
          ],
          "name": "stdout"
        }
      ]
    },
    {
      "cell_type": "code",
      "metadata": {
        "id": "qdvUvF93Yhdw"
      },
      "source": [
        "X_train = np.array(X_train)\n",
        "X_test = np.array(X_test)\n",
        " \n",
        "y_train = np.array(y_train)\n",
        "y_test = np.array(y_test)"
      ],
      "execution_count": null,
      "outputs": []
    },
    {
      "cell_type": "code",
      "metadata": {
        "colab": {
          "base_uri": "https://localhost:8080/"
        },
        "id": "ytVlwQy_YkDO",
        "outputId": "6e5bdf14-d1f4-497a-f53b-18de1e2d39c3"
      },
      "source": [
        "print(type(X_train))"
      ],
      "execution_count": null,
      "outputs": [
        {
          "output_type": "stream",
          "text": [
            "<class 'numpy.ndarray'>\n"
          ],
          "name": "stdout"
        }
      ]
    },
    {
      "cell_type": "code",
      "metadata": {
        "colab": {
          "base_uri": "https://localhost:8080/",
          "height": 298
        },
        "id": "OLvvGZGcYnat",
        "outputId": "3bdfc560-89ff-427d-8dff-6124989f9590"
      },
      "source": [
        "plt.imshow(array_to_img(X_train[1000]))\n",
        "plt.title(categories[y_train[1000]])"
      ],
      "execution_count": null,
      "outputs": [
        {
          "output_type": "execute_result",
          "data": {
            "text/plain": [
              "Text(0.5, 1.0, 'uninfected')"
            ]
          },
          "metadata": {
            "tags": []
          },
          "execution_count": 25
        },
        {
          "output_type": "display_data",
          "data": {
            "image/png": "[encoded data removed]",
            "text/plain": [
              "<Figure size 432x288 with 1 Axes>"
            ]
          },
          "metadata": {
            "tags": [],
            "needs_background": "light"
          }
        }
      ]
    },
    {
      "cell_type": "code",
      "metadata": {
        "id": "jFaz0MSBYqF5"
      },
      "source": [
        "def rescale(data):\n",
        "  data = data/255.\n",
        " \n",
        "  return data"
      ],
      "execution_count": null,
      "outputs": []
    },
    {
      "cell_type": "code",
      "metadata": {
        "id": "1Btp2QGiYujs"
      },
      "source": [
        "X_train = rescale(X_train)\n",
        "X_test = rescale(X_test)"
      ],
      "execution_count": null,
      "outputs": []
    },
    {
      "cell_type": "code",
      "metadata": {
        "colab": {
          "base_uri": "https://localhost:8080/"
        },
        "id": "_YkXOVNjYx0d",
        "outputId": "8b928e2c-54a3-4816-de52-696ad03a42d5"
      },
      "source": [
        "X_train.shape"
      ],
      "execution_count": null,
      "outputs": [
        {
          "output_type": "execute_result",
          "data": {
            "text/plain": [
              "(24958, 100, 100, 3)"
            ]
          },
          "metadata": {
            "tags": []
          },
          "execution_count": 28
        }
      ]
    },
    {
      "cell_type": "code",
      "metadata": {
        "colab": {
          "base_uri": "https://localhost:8080/"
        },
        "id": "eGuAFLFYY0xm",
        "outputId": "063b1387-a1a6-4162-bc86-2c66d417db7e"
      },
      "source": [
        "print(X_train.max())"
      ],
      "execution_count": null,
      "outputs": [
        {
          "output_type": "stream",
          "text": [
            "1.0\n"
          ],
          "name": "stdout"
        }
      ]
    },
    {
      "cell_type": "code",
      "metadata": {
        "id": "2wX-KV4pY3QN"
      },
      "source": [
        "from tensorflow.keras.layers import Dropout"
      ],
      "execution_count": null,
      "outputs": []
    },
    {
      "cell_type": "code",
      "metadata": {
        "colab": {
          "base_uri": "https://localhost:8080/"
        },
        "id": "fCw0PMmwY6uY",
        "outputId": "ff4dec7a-f8b6-49ef-94fa-d2f8fe142c9d"
      },
      "source": [
        "model = Sequential()\n",
        "\n",
        "model.add(Conv2D(filters = 32,kernel_size=[2,2], padding = 'same',\n",
        "                 input_shape = (100,100,3), activation='relu'))\n",
        "model.add(MaxPool2D(pool_size=(2,2), strides=(2,2)))\n",
        "\n",
        "model.add(Conv2D(filters = 64,kernel_size=[2,2], padding = 'same',\n",
        "                 input_shape = (100,100,3), activation='relu'))\n",
        "model.add(MaxPool2D(pool_size=(2,2), strides=(2,2)))\n",
        "\n",
        "model.add(Conv2D(filters = 72,kernel_size=[7,7], padding = 'same',\n",
        "                 input_shape = (100,100,3), activation='relu'))\n",
        "model.add(MaxPool2D(pool_size=(2,2), strides=(2,2)))\n",
        "\n",
        "model.add(Flatten())\n",
        "\n",
        "model.add(Dense(units=128, activation='relu'))\n",
        "model.add(Dropout(0.3))\n",
        "\n",
        "model.add(Dense(64, activation='relu'))\n",
        "model.add(Dense(1, activation = 'sigmoid'))\n",
        "\n",
        "model.compile(optimizer = 'adam', \n",
        "              loss = 'binary_crossentropy',\n",
        "              metrics =['accuracy'])\n",
        "\n",
        "model.summary()"
      ],
      "execution_count": null,
      "outputs": [
        {
          "output_type": "stream",
          "text": [
            "Model: \"sequential_2\"\n",
            "_________________________________________________________________\n",
            "Layer (type)                 Output Shape              Param #   \n",
            "=================================================================\n",
            "conv2d_6 (Conv2D)            (None, 100, 100, 32)      416       \n",
            "_________________________________________________________________\n",
            "max_pooling2d_6 (MaxPooling2 (None, 50, 50, 32)        0         \n",
            "_________________________________________________________________\n",
            "conv2d_7 (Conv2D)            (None, 50, 50, 64)        8256      \n",
            "_________________________________________________________________\n",
            "max_pooling2d_7 (MaxPooling2 (None, 25, 25, 64)        0         \n",
            "_________________________________________________________________\n",
            "conv2d_8 (Conv2D)            (None, 25, 25, 72)        225864    \n",
            "_________________________________________________________________\n",
            "max_pooling2d_8 (MaxPooling2 (None, 12, 12, 72)        0         \n",
            "_________________________________________________________________\n",
            "flatten_2 (Flatten)          (None, 10368)             0         \n",
            "_________________________________________________________________\n",
            "dense_6 (Dense)              (None, 128)               1327232   \n",
            "_________________________________________________________________\n",
            "dropout_2 (Dropout)          (None, 128)               0         \n",
            "_________________________________________________________________\n",
            "dense_7 (Dense)              (None, 64)                8256      \n",
            "_________________________________________________________________\n",
            "dense_8 (Dense)              (None, 1)                 65        \n",
            "=================================================================\n",
            "Total params: 1,570,089\n",
            "Trainable params: 1,570,089\n",
            "Non-trainable params: 0\n",
            "_________________________________________________________________\n"
          ],
          "name": "stdout"
        }
      ]
    },
    {
      "cell_type": "code",
      "metadata": {
        "id": "FhXBWCcuZCxB"
      },
      "source": [
        "early_stop = EarlyStopping(monitor='val_loss', mode = \"min\",\n",
        "                           patience=2 )\n",
        " \n",
        "checkpoint = ModelCheckpoint(filepath=\"weights.{epoch:02d}-{val_loss:.2f}.hdf5\",\n",
        "                             monitor='val_loss', mode = \"min\", save_best_only=True)"
      ],
      "execution_count": null,
      "outputs": []
    },
    {
      "cell_type": "code",
      "metadata": {
        "colab": {
          "base_uri": "https://localhost:8080/"
        },
        "id": "9aAgoxwIa9tk",
        "outputId": "2101a54c-4871-4ba5-9519-9d35c2c84d13"
      },
      "source": [
        "model.fit(X_train,y_train, validation_split=0.2,batch_size=16, epochs=20,callbacks=[early_stop])"
      ],
      "execution_count": null,
      "outputs": [
        {
          "output_type": "stream",
          "text": [
            "Epoch 1/20\n",
            "1248/1248 [==============================] - 10s 8ms/step - loss: 0.3712 - accuracy: 0.8207 - val_loss: 0.2452 - val_accuracy: 0.9239\n",
            "Epoch 2/20\n",
            "1248/1248 [==============================] - 9s 8ms/step - loss: 0.1325 - accuracy: 0.9596 - val_loss: 0.1788 - val_accuracy: 0.9445\n",
            "Epoch 3/20\n",
            "1248/1248 [==============================] - 9s 8ms/step - loss: 0.1174 - accuracy: 0.9627 - val_loss: 0.2201 - val_accuracy: 0.9333\n",
            "Epoch 4/20\n",
            "1248/1248 [==============================] - 9s 8ms/step - loss: 0.1101 - accuracy: 0.9659 - val_loss: 0.1790 - val_accuracy: 0.9473\n"
          ],
          "name": "stdout"
        },
        {
          "output_type": "execute_result",
          "data": {
            "text/plain": [
              "<tensorflow.python.keras.callbacks.History at 0x7ff486671c88>"
            ]
          },
          "metadata": {
            "tags": []
          },
          "execution_count": 43
        }
      ]
    },
    {
      "cell_type": "code",
      "metadata": {
        "colab": {
          "base_uri": "https://localhost:8080/",
          "height": 175
        },
        "id": "RGlA6kWpbAdV",
        "outputId": "4d0f855b-09fe-444a-f96d-b22eb00d55a0"
      },
      "source": [
        "losses = pd.DataFrame(model.history.history)\n",
        "losses"
      ],
      "execution_count": null,
      "outputs": [
        {
          "output_type": "execute_result",
          "data": {
            "text/html": [
              "<div>\n",
              "<style scoped>\n",
              "    .dataframe tbody tr th:only-of-type {\n",
              "        vertical-align: middle;\n",
              "    }\n",
              "\n",
              "    .dataframe tbody tr th {\n",
              "        vertical-align: top;\n",
              "    }\n",
              "\n",
              "    .dataframe thead th {\n",
              "        text-align: right;\n",
              "    }\n",
              "</style>\n",
              "<table border=\"1\" class=\"dataframe\">\n",
              "  <thead>\n",
              "    <tr style=\"text-align: right;\">\n",
              "      <th></th>\n",
              "      <th>loss</th>\n",
              "      <th>accuracy</th>\n",
              "      <th>val_loss</th>\n",
              "      <th>val_accuracy</th>\n",
              "    </tr>\n",
              "  </thead>\n",
              "  <tbody>\n",
              "    <tr>\n",
              "      <th>0</th>\n",
              "      <td>0.371175</td>\n",
              "      <td>0.820695</td>\n",
              "      <td>0.245169</td>\n",
              "      <td>0.923878</td>\n",
              "    </tr>\n",
              "    <tr>\n",
              "      <th>1</th>\n",
              "      <td>0.132466</td>\n",
              "      <td>0.959581</td>\n",
              "      <td>0.178788</td>\n",
              "      <td>0.944511</td>\n",
              "    </tr>\n",
              "    <tr>\n",
              "      <th>2</th>\n",
              "      <td>0.117377</td>\n",
              "      <td>0.962737</td>\n",
              "      <td>0.220096</td>\n",
              "      <td>0.933293</td>\n",
              "    </tr>\n",
              "    <tr>\n",
              "      <th>3</th>\n",
              "      <td>0.110086</td>\n",
              "      <td>0.965892</td>\n",
              "      <td>0.178966</td>\n",
              "      <td>0.947316</td>\n",
              "    </tr>\n",
              "  </tbody>\n",
              "</table>\n",
              "</div>"
            ],
            "text/plain": [
              "       loss  accuracy  val_loss  val_accuracy\n",
              "0  0.371175  0.820695  0.245169      0.923878\n",
              "1  0.132466  0.959581  0.178788      0.944511\n",
              "2  0.117377  0.962737  0.220096      0.933293\n",
              "3  0.110086  0.965892  0.178966      0.947316"
            ]
          },
          "metadata": {
            "tags": []
          },
          "execution_count": 44
        }
      ]
    },
    {
      "cell_type": "code",
      "metadata": {
        "colab": {
          "base_uri": "https://localhost:8080/",
          "height": 282
        },
        "id": "ZqpQbe_0bRs9",
        "outputId": "f260fde4-4fa3-4397-d209-01196e6f273a"
      },
      "source": [
        "losses[['loss','val_loss']].plot()"
      ],
      "execution_count": null,
      "outputs": [
        {
          "output_type": "execute_result",
          "data": {
            "text/plain": [
              "<matplotlib.axes._subplots.AxesSubplot at 0x7ff4863e7ef0>"
            ]
          },
          "metadata": {
            "tags": []
          },
          "execution_count": 45
        },
        {
          "output_type": "display_data",
          "data": {
            "image/png": "[encoded data removed]",
            "text/plain": [
              "<Figure size 432x288 with 1 Axes>"
            ]
          },
          "metadata": {
            "tags": [],
            "needs_background": "light"
          }
        }
      ]
    },
    {
      "cell_type": "code",
      "metadata": {
        "id": "anUSTvZlbXdz"
      },
      "source": [
        "from sklearn.metrics import classification_report"
      ],
      "execution_count": null,
      "outputs": []
    },
    {
      "cell_type": "code",
      "metadata": {
        "colab": {
          "base_uri": "https://localhost:8080/"
        },
        "id": "tGVLkGaabi6k",
        "outputId": "58e41419-210d-47ab-bd03-f1a9a7652ffd"
      },
      "source": [
        "predictions = model.predict_classes(X_test)"
      ],
      "execution_count": null,
      "outputs": [
        {
          "output_type": "stream",
          "text": [
            "WARNING:tensorflow:From <ipython-input-47-bc83193b8b59>:1: Sequential.predict_classes (from tensorflow.python.keras.engine.sequential) is deprecated and will be removed after 2021-01-01.\n",
            "Instructions for updating:\n",
            "Please use instead:* `np.argmax(model.predict(x), axis=-1)`,   if your model does multi-class classification   (e.g. if it uses a `softmax` last-layer activation).* `(model.predict(x) > 0.5).astype(\"int32\")`,   if your model does binary classification   (e.g. if it uses a `sigmoid` last-layer activation).\n"
          ],
          "name": "stdout"
        }
      ]
    },
    {
      "cell_type": "code",
      "metadata": {
        "colab": {
          "base_uri": "https://localhost:8080/"
        },
        "id": "U70xPdVPbmS0",
        "outputId": "00efc529-48da-48a2-e978-50295abdff53"
      },
      "source": [
        "print(classification_report(y_test, predictions))"
      ],
      "execution_count": null,
      "outputs": [
        {
          "output_type": "stream",
          "text": [
            "              precision    recall  f1-score   support\n",
            "\n",
            "           0       0.94      0.97      0.95      1300\n",
            "           1       0.97      0.94      0.95      1300\n",
            "\n",
            "    accuracy                           0.95      2600\n",
            "   macro avg       0.95      0.95      0.95      2600\n",
            "weighted avg       0.95      0.95      0.95      2600\n",
            "\n"
          ],
          "name": "stdout"
        }
      ]
    },
    {
      "cell_type": "code",
      "metadata": {
        "id": "QdXkl2vkbpmt"
      },
      "source": [
        "my_image = X_test[60]"
      ],
      "execution_count": null,
      "outputs": []
    },
    {
      "cell_type": "code",
      "metadata": {
        "colab": {
          "base_uri": "https://localhost:8080/",
          "height": 285
        },
        "id": "6TrwU4OLbySY",
        "outputId": "1d9c0a58-9058-4534-b4a4-077041c05c00"
      },
      "source": [
        "plt.imshow(my_image)"
      ],
      "execution_count": null,
      "outputs": [
        {
          "output_type": "execute_result",
          "data": {
            "text/plain": [
              "<matplotlib.image.AxesImage at 0x7ff47604ff60>"
            ]
          },
          "metadata": {
            "tags": []
          },
          "execution_count": 50
        },
        {
          "output_type": "display_data",
          "data": {
            "image/png": "[encoded data removed]",
            "text/plain": [
              "<Figure size 432x288 with 1 Axes>"
            ]
          },
          "metadata": {
            "tags": [],
            "needs_background": "light"
          }
        }
      ]
    },
    {
      "cell_type": "code",
      "metadata": {
        "colab": {
          "base_uri": "https://localhost:8080/"
        },
        "id": "mOQ9jp9nb29m",
        "outputId": "f11dca41-edd5-4f90-ee53-7464023692a0"
      },
      "source": [
        "y_test[60]"
      ],
      "execution_count": null,
      "outputs": [
        {
          "output_type": "execute_result",
          "data": {
            "text/plain": [
              "0"
            ]
          },
          "metadata": {
            "tags": []
          },
          "execution_count": 51
        }
      ]
    },
    {
      "cell_type": "code",
      "metadata": {
        "id": "zzTUxnYcb60l",
        "colab": {
          "base_uri": "https://localhost:8080/"
        },
        "outputId": "31199618-ec3d-4d58-e8c4-5ce2227fe553"
      },
      "source": [
        "model.predict_classes(my_image.reshape(1,100,100,3))"
      ],
      "execution_count": null,
      "outputs": [
        {
          "output_type": "execute_result",
          "data": {
            "text/plain": [
              "array([[0]], dtype=int32)"
            ]
          },
          "metadata": {
            "tags": []
          },
          "execution_count": 52
        }
      ]
    },
    {
      "cell_type": "code",
      "metadata": {
        "id": "EmEJ5Nv0b9Pg"
      },
      "source": [
        ""
      ],
      "execution_count": null,
      "outputs": []
    }
  ]
}